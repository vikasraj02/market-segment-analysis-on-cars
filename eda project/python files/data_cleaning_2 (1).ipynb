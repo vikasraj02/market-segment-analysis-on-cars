{
 "cells": [
  {
   "cell_type": "code",
   "execution_count": 1,
   "id": "a62511f7",
   "metadata": {},
   "outputs": [],
   "source": [
    "import numpy as np\n",
    "import pandas as pd\n",
    "import matplotlib.pyplot as plt\n",
    "import seaborn as sns\n",
    "import requests\n",
    "import re\n",
    "from bs4 import BeautifulSoup "
   ]
  },
  {
   "cell_type": "code",
   "execution_count": 2,
   "id": "051bd091",
   "metadata": {},
   "outputs": [],
   "source": [
    "final_df = pd.read_csv(\"web_scraping_final\")"
   ]
  },
  {
   "cell_type": "code",
   "execution_count": 45,
   "id": "6be22f11",
   "metadata": {},
   "outputs": [
    {
     "data": {
      "text/html": [
       "<div>\n",
       "<style scoped>\n",
       "    .dataframe tbody tr th:only-of-type {\n",
       "        vertical-align: middle;\n",
       "    }\n",
       "\n",
       "    .dataframe tbody tr th {\n",
       "        vertical-align: top;\n",
       "    }\n",
       "\n",
       "    .dataframe thead th {\n",
       "        text-align: right;\n",
       "    }\n",
       "</style>\n",
       "<table border=\"1\" class=\"dataframe\">\n",
       "  <thead>\n",
       "    <tr style=\"text-align: right;\">\n",
       "      <th></th>\n",
       "      <th>brand</th>\n",
       "      <th>model</th>\n",
       "      <th>variant_type</th>\n",
       "      <th>CC</th>\n",
       "      <th>gear_type</th>\n",
       "      <th>Boot_Space</th>\n",
       "      <th>price</th>\n",
       "      <th>gear_type_num</th>\n",
       "    </tr>\n",
       "  </thead>\n",
       "  <tbody>\n",
       "    <tr>\n",
       "      <th>0</th>\n",
       "      <td>Tata</td>\n",
       "      <td>Punch</td>\n",
       "      <td>Pure</td>\n",
       "      <td>1199</td>\n",
       "      <td>Manual</td>\n",
       "      <td>366.0</td>\n",
       "      <td>582000</td>\n",
       "      <td>0</td>\n",
       "    </tr>\n",
       "    <tr>\n",
       "      <th>1</th>\n",
       "      <td>Tata</td>\n",
       "      <td>Punch</td>\n",
       "      <td>Pure Rhythm</td>\n",
       "      <td>1199</td>\n",
       "      <td>Manual</td>\n",
       "      <td>366.0</td>\n",
       "      <td>614000</td>\n",
       "      <td>0</td>\n",
       "    </tr>\n",
       "    <tr>\n",
       "      <th>2</th>\n",
       "      <td>Tata</td>\n",
       "      <td>Punch</td>\n",
       "      <td>Adventure</td>\n",
       "      <td>1199</td>\n",
       "      <td>Manual</td>\n",
       "      <td>366.0</td>\n",
       "      <td>664000</td>\n",
       "      <td>0</td>\n",
       "    </tr>\n",
       "    <tr>\n",
       "      <th>3</th>\n",
       "      <td>Tata</td>\n",
       "      <td>Punch</td>\n",
       "      <td>Adventure Rhythm</td>\n",
       "      <td>1199</td>\n",
       "      <td>Manual</td>\n",
       "      <td>366.0</td>\n",
       "      <td>699000</td>\n",
       "      <td>0</td>\n",
       "    </tr>\n",
       "    <tr>\n",
       "      <th>4</th>\n",
       "      <td>Tata</td>\n",
       "      <td>Punch</td>\n",
       "      <td>Adventure AMT</td>\n",
       "      <td>1199</td>\n",
       "      <td>Automatic</td>\n",
       "      <td>366.0</td>\n",
       "      <td>724000</td>\n",
       "      <td>1</td>\n",
       "    </tr>\n",
       "    <tr>\n",
       "      <th>...</th>\n",
       "      <td>...</td>\n",
       "      <td>...</td>\n",
       "      <td>...</td>\n",
       "      <td>...</td>\n",
       "      <td>...</td>\n",
       "      <td>...</td>\n",
       "      <td>...</td>\n",
       "      <td>...</td>\n",
       "    </tr>\n",
       "    <tr>\n",
       "      <th>849</th>\n",
       "      <td>Mercedes-Benz</td>\n",
       "      <td>AMG C 63</td>\n",
       "      <td>Coupe</td>\n",
       "      <td>3982</td>\n",
       "      <td>Automatic</td>\n",
       "      <td>150.0</td>\n",
       "      <td>14100000</td>\n",
       "      <td>1</td>\n",
       "    </tr>\n",
       "    <tr>\n",
       "      <th>850</th>\n",
       "      <td>Mercedes-Benz</td>\n",
       "      <td>AMG C 43</td>\n",
       "      <td>4MATIC Coupe</td>\n",
       "      <td>2996</td>\n",
       "      <td>Automatic</td>\n",
       "      <td>150.0</td>\n",
       "      <td>8109000</td>\n",
       "      <td>1</td>\n",
       "    </tr>\n",
       "    <tr>\n",
       "      <th>851</th>\n",
       "      <td>Mercedes-Benz</td>\n",
       "      <td>AMG E 53</td>\n",
       "      <td>4MATIC Plus</td>\n",
       "      <td>2999</td>\n",
       "      <td>Manual</td>\n",
       "      <td>150.0</td>\n",
       "      <td>10600000</td>\n",
       "      <td>0</td>\n",
       "    </tr>\n",
       "    <tr>\n",
       "      <th>852</th>\n",
       "      <td>Mercedes-Benz</td>\n",
       "      <td>AMG E 63</td>\n",
       "      <td>4MATIC Plus</td>\n",
       "      <td>3982</td>\n",
       "      <td>Automatic</td>\n",
       "      <td>150.0</td>\n",
       "      <td>17300000</td>\n",
       "      <td>1</td>\n",
       "    </tr>\n",
       "    <tr>\n",
       "      <th>853</th>\n",
       "      <td>Mercedes-Benz</td>\n",
       "      <td>AMG GLC 43</td>\n",
       "      <td>4MATIC Coupe</td>\n",
       "      <td>2996</td>\n",
       "      <td>Automatic</td>\n",
       "      <td>150.0</td>\n",
       "      <td>8540000</td>\n",
       "      <td>1</td>\n",
       "    </tr>\n",
       "  </tbody>\n",
       "</table>\n",
       "<p>854 rows × 8 columns</p>\n",
       "</div>"
      ],
      "text/plain": [
       "             brand       model      variant_type    CC  gear_type  Boot_Space  \\\n",
       "0             Tata       Punch              Pure  1199     Manual       366.0   \n",
       "1             Tata       Punch       Pure Rhythm  1199     Manual       366.0   \n",
       "2             Tata       Punch         Adventure  1199     Manual       366.0   \n",
       "3             Tata       Punch  Adventure Rhythm  1199     Manual       366.0   \n",
       "4             Tata       Punch     Adventure AMT  1199  Automatic       366.0   \n",
       "..             ...         ...               ...   ...        ...         ...   \n",
       "849  Mercedes-Benz    AMG C 63             Coupe  3982  Automatic       150.0   \n",
       "850  Mercedes-Benz    AMG C 43      4MATIC Coupe  2996  Automatic       150.0   \n",
       "851  Mercedes-Benz    AMG E 53       4MATIC Plus  2999     Manual       150.0   \n",
       "852  Mercedes-Benz    AMG E 63       4MATIC Plus  3982  Automatic       150.0   \n",
       "853  Mercedes-Benz  AMG GLC 43      4MATIC Coupe  2996  Automatic       150.0   \n",
       "\n",
       "        price  gear_type_num  \n",
       "0      582000              0  \n",
       "1      614000              0  \n",
       "2      664000              0  \n",
       "3      699000              0  \n",
       "4      724000              1  \n",
       "..        ...            ...  \n",
       "849  14100000              1  \n",
       "850   8109000              1  \n",
       "851  10600000              0  \n",
       "852  17300000              1  \n",
       "853   8540000              1  \n",
       "\n",
       "[854 rows x 8 columns]"
      ]
     },
     "execution_count": 45,
     "metadata": {},
     "output_type": "execute_result"
    }
   ],
   "source": [
    "final_df"
   ]
  },
  {
   "cell_type": "code",
   "execution_count": 47,
   "id": "afe28822",
   "metadata": {},
   "outputs": [
    {
     "data": {
      "text/html": [
       "<div>\n",
       "<style scoped>\n",
       "    .dataframe tbody tr th:only-of-type {\n",
       "        vertical-align: middle;\n",
       "    }\n",
       "\n",
       "    .dataframe tbody tr th {\n",
       "        vertical-align: top;\n",
       "    }\n",
       "\n",
       "    .dataframe thead th {\n",
       "        text-align: right;\n",
       "    }\n",
       "</style>\n",
       "<table border=\"1\" class=\"dataframe\">\n",
       "  <thead>\n",
       "    <tr style=\"text-align: right;\">\n",
       "      <th></th>\n",
       "      <th>CC</th>\n",
       "      <th>Boot_Space</th>\n",
       "      <th>price</th>\n",
       "      <th>gear_type_num</th>\n",
       "    </tr>\n",
       "  </thead>\n",
       "  <tbody>\n",
       "    <tr>\n",
       "      <th>count</th>\n",
       "      <td>854.000000</td>\n",
       "      <td>854.000000</td>\n",
       "      <td>8.540000e+02</td>\n",
       "      <td>854.000000</td>\n",
       "    </tr>\n",
       "    <tr>\n",
       "      <th>mean</th>\n",
       "      <td>1928.621780</td>\n",
       "      <td>301.456674</td>\n",
       "      <td>5.257300e+06</td>\n",
       "      <td>0.537471</td>\n",
       "    </tr>\n",
       "    <tr>\n",
       "      <th>std</th>\n",
       "      <td>978.802635</td>\n",
       "      <td>142.306663</td>\n",
       "      <td>8.991315e+06</td>\n",
       "      <td>0.501231</td>\n",
       "    </tr>\n",
       "    <tr>\n",
       "      <th>min</th>\n",
       "      <td>796.000000</td>\n",
       "      <td>74.000000</td>\n",
       "      <td>3.390000e+05</td>\n",
       "      <td>0.000000</td>\n",
       "    </tr>\n",
       "    <tr>\n",
       "      <th>25%</th>\n",
       "      <td>1199.000000</td>\n",
       "      <td>150.000000</td>\n",
       "      <td>9.490000e+05</td>\n",
       "      <td>0.000000</td>\n",
       "    </tr>\n",
       "    <tr>\n",
       "      <th>50%</th>\n",
       "      <td>1497.000000</td>\n",
       "      <td>318.000000</td>\n",
       "      <td>1.422000e+06</td>\n",
       "      <td>1.000000</td>\n",
       "    </tr>\n",
       "    <tr>\n",
       "      <th>75%</th>\n",
       "      <td>2194.500000</td>\n",
       "      <td>385.000000</td>\n",
       "      <td>4.896500e+06</td>\n",
       "      <td>1.000000</td>\n",
       "    </tr>\n",
       "    <tr>\n",
       "      <th>max</th>\n",
       "      <td>6498.000000</td>\n",
       "      <td>825.000000</td>\n",
       "      <td>9.000000e+07</td>\n",
       "      <td>2.000000</td>\n",
       "    </tr>\n",
       "  </tbody>\n",
       "</table>\n",
       "</div>"
      ],
      "text/plain": [
       "                CC  Boot_Space         price  gear_type_num\n",
       "count   854.000000  854.000000  8.540000e+02     854.000000\n",
       "mean   1928.621780  301.456674  5.257300e+06       0.537471\n",
       "std     978.802635  142.306663  8.991315e+06       0.501231\n",
       "min     796.000000   74.000000  3.390000e+05       0.000000\n",
       "25%    1199.000000  150.000000  9.490000e+05       0.000000\n",
       "50%    1497.000000  318.000000  1.422000e+06       1.000000\n",
       "75%    2194.500000  385.000000  4.896500e+06       1.000000\n",
       "max    6498.000000  825.000000  9.000000e+07       2.000000"
      ]
     },
     "execution_count": 47,
     "metadata": {},
     "output_type": "execute_result"
    }
   ],
   "source": [
    "final_df.describe()"
   ]
  },
  {
   "cell_type": "code",
   "execution_count": 49,
   "id": "00a8e3ef",
   "metadata": {},
   "outputs": [
    {
     "data": {
      "text/html": [
       "<div>\n",
       "<style scoped>\n",
       "    .dataframe tbody tr th:only-of-type {\n",
       "        vertical-align: middle;\n",
       "    }\n",
       "\n",
       "    .dataframe tbody tr th {\n",
       "        vertical-align: top;\n",
       "    }\n",
       "\n",
       "    .dataframe thead th {\n",
       "        text-align: right;\n",
       "    }\n",
       "</style>\n",
       "<table border=\"1\" class=\"dataframe\">\n",
       "  <thead>\n",
       "    <tr style=\"text-align: right;\">\n",
       "      <th></th>\n",
       "      <th>brand</th>\n",
       "      <th>model</th>\n",
       "      <th>variant_type</th>\n",
       "      <th>gear_type</th>\n",
       "    </tr>\n",
       "  </thead>\n",
       "  <tbody>\n",
       "    <tr>\n",
       "      <th>count</th>\n",
       "      <td>854</td>\n",
       "      <td>854</td>\n",
       "      <td>854</td>\n",
       "      <td>854</td>\n",
       "    </tr>\n",
       "    <tr>\n",
       "      <th>unique</th>\n",
       "      <td>24</td>\n",
       "      <td>161</td>\n",
       "      <td>688</td>\n",
       "      <td>3</td>\n",
       "    </tr>\n",
       "    <tr>\n",
       "      <th>top</th>\n",
       "      <td>Tata</td>\n",
       "      <td>Nexon</td>\n",
       "      <td>S</td>\n",
       "      <td>Automatic</td>\n",
       "    </tr>\n",
       "    <tr>\n",
       "      <th>freq</th>\n",
       "      <td>171</td>\n",
       "      <td>64</td>\n",
       "      <td>6</td>\n",
       "      <td>457</td>\n",
       "    </tr>\n",
       "  </tbody>\n",
       "</table>\n",
       "</div>"
      ],
      "text/plain": [
       "       brand  model variant_type  gear_type\n",
       "count    854    854          854        854\n",
       "unique    24    161          688          3\n",
       "top     Tata  Nexon            S  Automatic\n",
       "freq     171     64            6        457"
      ]
     },
     "execution_count": 49,
     "metadata": {},
     "output_type": "execute_result"
    }
   ],
   "source": [
    "final_df.select_dtypes(include=\"object\").describe()"
   ]
  },
  {
   "cell_type": "code",
   "execution_count": 4,
   "id": "4b48c076",
   "metadata": {},
   "outputs": [],
   "source": [
    "final_df.drop(\"Unnamed: 0\",axis=1,inplace=True)"
   ]
  },
  {
   "cell_type": "code",
   "execution_count": 5,
   "id": "199f0c01",
   "metadata": {},
   "outputs": [
    {
     "data": {
      "text/plain": [
       "0      1199\n",
       "1      1199\n",
       "2      1199\n",
       "3      1199\n",
       "4      1199\n",
       "       ... \n",
       "849    3982\n",
       "850    2996\n",
       "851    2999\n",
       "852    3982\n",
       "853    2996\n",
       "Name: CC, Length: 854, dtype: int32"
      ]
     },
     "execution_count": 5,
     "metadata": {},
     "output_type": "execute_result"
    }
   ],
   "source": [
    "final_df.CC.astype(\"int\")"
   ]
  },
  {
   "cell_type": "code",
   "execution_count": 6,
   "id": "258bcf66",
   "metadata": {},
   "outputs": [
    {
     "data": {
      "text/html": [
       "<div>\n",
       "<style scoped>\n",
       "    .dataframe tbody tr th:only-of-type {\n",
       "        vertical-align: middle;\n",
       "    }\n",
       "\n",
       "    .dataframe tbody tr th {\n",
       "        vertical-align: top;\n",
       "    }\n",
       "\n",
       "    .dataframe thead th {\n",
       "        text-align: right;\n",
       "    }\n",
       "</style>\n",
       "<table border=\"1\" class=\"dataframe\">\n",
       "  <thead>\n",
       "    <tr style=\"text-align: right;\">\n",
       "      <th></th>\n",
       "      <th>brand</th>\n",
       "      <th>model</th>\n",
       "      <th>variant_type</th>\n",
       "      <th>CC</th>\n",
       "      <th>gear_type</th>\n",
       "      <th>Boot_Space</th>\n",
       "      <th>price</th>\n",
       "    </tr>\n",
       "  </thead>\n",
       "  <tbody>\n",
       "    <tr>\n",
       "      <th>0</th>\n",
       "      <td>Tata</td>\n",
       "      <td>Punch</td>\n",
       "      <td>\\nPure\\n</td>\n",
       "      <td>1199</td>\n",
       "      <td>Manual</td>\n",
       "      <td>366.0</td>\n",
       "      <td>582</td>\n",
       "    </tr>\n",
       "    <tr>\n",
       "      <th>1</th>\n",
       "      <td>Tata</td>\n",
       "      <td>Punch</td>\n",
       "      <td>\\nPure Rhythm\\n</td>\n",
       "      <td>1199</td>\n",
       "      <td>Manual</td>\n",
       "      <td>366.0</td>\n",
       "      <td>614</td>\n",
       "    </tr>\n",
       "    <tr>\n",
       "      <th>2</th>\n",
       "      <td>Tata</td>\n",
       "      <td>Punch</td>\n",
       "      <td>\\nAdventure\\n</td>\n",
       "      <td>1199</td>\n",
       "      <td>Manual</td>\n",
       "      <td>366.0</td>\n",
       "      <td>664</td>\n",
       "    </tr>\n",
       "    <tr>\n",
       "      <th>3</th>\n",
       "      <td>Tata</td>\n",
       "      <td>Punch</td>\n",
       "      <td>\\nAdventure Rhythm\\n</td>\n",
       "      <td>1199</td>\n",
       "      <td>Manual</td>\n",
       "      <td>366.0</td>\n",
       "      <td>699</td>\n",
       "    </tr>\n",
       "    <tr>\n",
       "      <th>4</th>\n",
       "      <td>Tata</td>\n",
       "      <td>Punch</td>\n",
       "      <td>\\nAdventure AMT\\n</td>\n",
       "      <td>1199</td>\n",
       "      <td>Automatic</td>\n",
       "      <td>366.0</td>\n",
       "      <td>724</td>\n",
       "    </tr>\n",
       "    <tr>\n",
       "      <th>...</th>\n",
       "      <td>...</td>\n",
       "      <td>...</td>\n",
       "      <td>...</td>\n",
       "      <td>...</td>\n",
       "      <td>...</td>\n",
       "      <td>...</td>\n",
       "      <td>...</td>\n",
       "    </tr>\n",
       "    <tr>\n",
       "      <th>849</th>\n",
       "      <td>Mercedes-Benz</td>\n",
       "      <td>AMG C 63</td>\n",
       "      <td>\\nCoupe\\n</td>\n",
       "      <td>3982</td>\n",
       "      <td>Automatic</td>\n",
       "      <td>NaN</td>\n",
       "      <td>14100</td>\n",
       "    </tr>\n",
       "    <tr>\n",
       "      <th>850</th>\n",
       "      <td>Mercedes-Benz</td>\n",
       "      <td>AMG C 43</td>\n",
       "      <td>\\n4MATIC Coupe\\n</td>\n",
       "      <td>2996</td>\n",
       "      <td>Automatic</td>\n",
       "      <td>NaN</td>\n",
       "      <td>8109</td>\n",
       "    </tr>\n",
       "    <tr>\n",
       "      <th>851</th>\n",
       "      <td>Mercedes-Benz</td>\n",
       "      <td>AMG E 53</td>\n",
       "      <td>\\n4MATIC Plus\\n</td>\n",
       "      <td>2999</td>\n",
       "      <td>Manual</td>\n",
       "      <td>NaN</td>\n",
       "      <td>10600</td>\n",
       "    </tr>\n",
       "    <tr>\n",
       "      <th>852</th>\n",
       "      <td>Mercedes-Benz</td>\n",
       "      <td>AMG E 63</td>\n",
       "      <td>\\n4MATIC Plus\\n</td>\n",
       "      <td>3982</td>\n",
       "      <td>Automatic</td>\n",
       "      <td>NaN</td>\n",
       "      <td>17300</td>\n",
       "    </tr>\n",
       "    <tr>\n",
       "      <th>853</th>\n",
       "      <td>Mercedes-Benz</td>\n",
       "      <td>AMG GLC 43</td>\n",
       "      <td>\\n4MATIC Coupe\\n</td>\n",
       "      <td>2996</td>\n",
       "      <td>Automatic</td>\n",
       "      <td>NaN</td>\n",
       "      <td>8540</td>\n",
       "    </tr>\n",
       "  </tbody>\n",
       "</table>\n",
       "<p>854 rows × 7 columns</p>\n",
       "</div>"
      ],
      "text/plain": [
       "             brand       model          variant_type    CC  gear_type  \\\n",
       "0             Tata       Punch              \\nPure\\n  1199     Manual   \n",
       "1             Tata       Punch       \\nPure Rhythm\\n  1199     Manual   \n",
       "2             Tata       Punch         \\nAdventure\\n  1199     Manual   \n",
       "3             Tata       Punch  \\nAdventure Rhythm\\n  1199     Manual   \n",
       "4             Tata       Punch     \\nAdventure AMT\\n  1199  Automatic   \n",
       "..             ...         ...                   ...   ...        ...   \n",
       "849  Mercedes-Benz    AMG C 63             \\nCoupe\\n  3982  Automatic   \n",
       "850  Mercedes-Benz    AMG C 43      \\n4MATIC Coupe\\n  2996  Automatic   \n",
       "851  Mercedes-Benz    AMG E 53       \\n4MATIC Plus\\n  2999     Manual   \n",
       "852  Mercedes-Benz    AMG E 63       \\n4MATIC Plus\\n  3982  Automatic   \n",
       "853  Mercedes-Benz  AMG GLC 43      \\n4MATIC Coupe\\n  2996  Automatic   \n",
       "\n",
       "     Boot_Space  price  \n",
       "0         366.0    582  \n",
       "1         366.0    614  \n",
       "2         366.0    664  \n",
       "3         366.0    699  \n",
       "4         366.0    724  \n",
       "..          ...    ...  \n",
       "849         NaN  14100  \n",
       "850         NaN   8109  \n",
       "851         NaN  10600  \n",
       "852         NaN  17300  \n",
       "853         NaN   8540  \n",
       "\n",
       "[854 rows x 7 columns]"
      ]
     },
     "execution_count": 6,
     "metadata": {},
     "output_type": "execute_result"
    }
   ],
   "source": [
    "final_df"
   ]
  },
  {
   "cell_type": "code",
   "execution_count": 7,
   "id": "f1f2dd9d",
   "metadata": {},
   "outputs": [],
   "source": [
    "final_df.Boot_Space.fillna(150,inplace=True)"
   ]
  },
  {
   "cell_type": "code",
   "execution_count": 8,
   "id": "ed599f1a",
   "metadata": {},
   "outputs": [
    {
     "data": {
      "text/plain": [
       "brand           0\n",
       "model           0\n",
       "variant_type    0\n",
       "CC              0\n",
       "gear_type       0\n",
       "Boot_Space      0\n",
       "price           0\n",
       "dtype: int64"
      ]
     },
     "execution_count": 8,
     "metadata": {},
     "output_type": "execute_result"
    }
   ],
   "source": [
    "final_df.isnull().sum()"
   ]
  },
  {
   "cell_type": "code",
   "execution_count": 9,
   "id": "ad0f5e67",
   "metadata": {},
   "outputs": [],
   "source": [
    "final_df.variant_type = final_df.variant_type.apply(lambda x: re.sub(\"[\\n]\",\"\",str(x)))"
   ]
  },
  {
   "cell_type": "code",
   "execution_count": 10,
   "id": "3e930c77",
   "metadata": {},
   "outputs": [
    {
     "data": {
      "text/html": [
       "<div>\n",
       "<style scoped>\n",
       "    .dataframe tbody tr th:only-of-type {\n",
       "        vertical-align: middle;\n",
       "    }\n",
       "\n",
       "    .dataframe tbody tr th {\n",
       "        vertical-align: top;\n",
       "    }\n",
       "\n",
       "    .dataframe thead th {\n",
       "        text-align: right;\n",
       "    }\n",
       "</style>\n",
       "<table border=\"1\" class=\"dataframe\">\n",
       "  <thead>\n",
       "    <tr style=\"text-align: right;\">\n",
       "      <th></th>\n",
       "      <th>brand</th>\n",
       "      <th>model</th>\n",
       "      <th>variant_type</th>\n",
       "      <th>CC</th>\n",
       "      <th>gear_type</th>\n",
       "      <th>Boot_Space</th>\n",
       "      <th>price</th>\n",
       "    </tr>\n",
       "  </thead>\n",
       "  <tbody>\n",
       "    <tr>\n",
       "      <th>0</th>\n",
       "      <td>Tata</td>\n",
       "      <td>Punch</td>\n",
       "      <td>Pure</td>\n",
       "      <td>1199</td>\n",
       "      <td>Manual</td>\n",
       "      <td>366.0</td>\n",
       "      <td>582</td>\n",
       "    </tr>\n",
       "    <tr>\n",
       "      <th>1</th>\n",
       "      <td>Tata</td>\n",
       "      <td>Punch</td>\n",
       "      <td>Pure Rhythm</td>\n",
       "      <td>1199</td>\n",
       "      <td>Manual</td>\n",
       "      <td>366.0</td>\n",
       "      <td>614</td>\n",
       "    </tr>\n",
       "  </tbody>\n",
       "</table>\n",
       "</div>"
      ],
      "text/plain": [
       "  brand  model variant_type    CC gear_type  Boot_Space  price\n",
       "0  Tata  Punch         Pure  1199    Manual       366.0    582\n",
       "1  Tata  Punch  Pure Rhythm  1199    Manual       366.0    614"
      ]
     },
     "execution_count": 10,
     "metadata": {},
     "output_type": "execute_result"
    }
   ],
   "source": [
    "final_df.head(2)"
   ]
  },
  {
   "cell_type": "code",
   "execution_count": 11,
   "id": "e791540c",
   "metadata": {},
   "outputs": [
    {
     "data": {
      "text/plain": [
       "brand            object\n",
       "model            object\n",
       "variant_type     object\n",
       "CC                int64\n",
       "gear_type        object\n",
       "Boot_Space      float64\n",
       "price             int64\n",
       "dtype: object"
      ]
     },
     "execution_count": 11,
     "metadata": {},
     "output_type": "execute_result"
    }
   ],
   "source": [
    "final_df.dtypes"
   ]
  },
  {
   "cell_type": "code",
   "execution_count": 12,
   "id": "d4dc7c49",
   "metadata": {},
   "outputs": [],
   "source": [
    "final_df.to_csv(\"final_web_scrapping.csv\")"
   ]
  },
  {
   "cell_type": "markdown",
   "id": "d3eeb772",
   "metadata": {},
   "source": [
    "# EDA"
   ]
  },
  {
   "cell_type": "code",
   "execution_count": 13,
   "id": "74d3b70a",
   "metadata": {},
   "outputs": [
    {
     "data": {
      "text/html": [
       "<div>\n",
       "<style scoped>\n",
       "    .dataframe tbody tr th:only-of-type {\n",
       "        vertical-align: middle;\n",
       "    }\n",
       "\n",
       "    .dataframe tbody tr th {\n",
       "        vertical-align: top;\n",
       "    }\n",
       "\n",
       "    .dataframe thead th {\n",
       "        text-align: right;\n",
       "    }\n",
       "</style>\n",
       "<table border=\"1\" class=\"dataframe\">\n",
       "  <thead>\n",
       "    <tr style=\"text-align: right;\">\n",
       "      <th></th>\n",
       "      <th>brand</th>\n",
       "      <th>model</th>\n",
       "      <th>variant_type</th>\n",
       "      <th>CC</th>\n",
       "      <th>gear_type</th>\n",
       "      <th>Boot_Space</th>\n",
       "      <th>price</th>\n",
       "    </tr>\n",
       "  </thead>\n",
       "  <tbody>\n",
       "    <tr>\n",
       "      <th>0</th>\n",
       "      <td>Tata</td>\n",
       "      <td>Punch</td>\n",
       "      <td>Pure</td>\n",
       "      <td>1199</td>\n",
       "      <td>Manual</td>\n",
       "      <td>366.0</td>\n",
       "      <td>582</td>\n",
       "    </tr>\n",
       "    <tr>\n",
       "      <th>1</th>\n",
       "      <td>Tata</td>\n",
       "      <td>Punch</td>\n",
       "      <td>Pure Rhythm</td>\n",
       "      <td>1199</td>\n",
       "      <td>Manual</td>\n",
       "      <td>366.0</td>\n",
       "      <td>614</td>\n",
       "    </tr>\n",
       "    <tr>\n",
       "      <th>2</th>\n",
       "      <td>Tata</td>\n",
       "      <td>Punch</td>\n",
       "      <td>Adventure</td>\n",
       "      <td>1199</td>\n",
       "      <td>Manual</td>\n",
       "      <td>366.0</td>\n",
       "      <td>664</td>\n",
       "    </tr>\n",
       "    <tr>\n",
       "      <th>3</th>\n",
       "      <td>Tata</td>\n",
       "      <td>Punch</td>\n",
       "      <td>Adventure Rhythm</td>\n",
       "      <td>1199</td>\n",
       "      <td>Manual</td>\n",
       "      <td>366.0</td>\n",
       "      <td>699</td>\n",
       "    </tr>\n",
       "    <tr>\n",
       "      <th>4</th>\n",
       "      <td>Tata</td>\n",
       "      <td>Punch</td>\n",
       "      <td>Adventure AMT</td>\n",
       "      <td>1199</td>\n",
       "      <td>Automatic</td>\n",
       "      <td>366.0</td>\n",
       "      <td>724</td>\n",
       "    </tr>\n",
       "    <tr>\n",
       "      <th>...</th>\n",
       "      <td>...</td>\n",
       "      <td>...</td>\n",
       "      <td>...</td>\n",
       "      <td>...</td>\n",
       "      <td>...</td>\n",
       "      <td>...</td>\n",
       "      <td>...</td>\n",
       "    </tr>\n",
       "    <tr>\n",
       "      <th>849</th>\n",
       "      <td>Mercedes-Benz</td>\n",
       "      <td>AMG C 63</td>\n",
       "      <td>Coupe</td>\n",
       "      <td>3982</td>\n",
       "      <td>Automatic</td>\n",
       "      <td>150.0</td>\n",
       "      <td>14100</td>\n",
       "    </tr>\n",
       "    <tr>\n",
       "      <th>850</th>\n",
       "      <td>Mercedes-Benz</td>\n",
       "      <td>AMG C 43</td>\n",
       "      <td>4MATIC Coupe</td>\n",
       "      <td>2996</td>\n",
       "      <td>Automatic</td>\n",
       "      <td>150.0</td>\n",
       "      <td>8109</td>\n",
       "    </tr>\n",
       "    <tr>\n",
       "      <th>851</th>\n",
       "      <td>Mercedes-Benz</td>\n",
       "      <td>AMG E 53</td>\n",
       "      <td>4MATIC Plus</td>\n",
       "      <td>2999</td>\n",
       "      <td>Manual</td>\n",
       "      <td>150.0</td>\n",
       "      <td>10600</td>\n",
       "    </tr>\n",
       "    <tr>\n",
       "      <th>852</th>\n",
       "      <td>Mercedes-Benz</td>\n",
       "      <td>AMG E 63</td>\n",
       "      <td>4MATIC Plus</td>\n",
       "      <td>3982</td>\n",
       "      <td>Automatic</td>\n",
       "      <td>150.0</td>\n",
       "      <td>17300</td>\n",
       "    </tr>\n",
       "    <tr>\n",
       "      <th>853</th>\n",
       "      <td>Mercedes-Benz</td>\n",
       "      <td>AMG GLC 43</td>\n",
       "      <td>4MATIC Coupe</td>\n",
       "      <td>2996</td>\n",
       "      <td>Automatic</td>\n",
       "      <td>150.0</td>\n",
       "      <td>8540</td>\n",
       "    </tr>\n",
       "  </tbody>\n",
       "</table>\n",
       "<p>854 rows × 7 columns</p>\n",
       "</div>"
      ],
      "text/plain": [
       "             brand       model      variant_type    CC  gear_type  Boot_Space  \\\n",
       "0             Tata       Punch              Pure  1199     Manual       366.0   \n",
       "1             Tata       Punch       Pure Rhythm  1199     Manual       366.0   \n",
       "2             Tata       Punch         Adventure  1199     Manual       366.0   \n",
       "3             Tata       Punch  Adventure Rhythm  1199     Manual       366.0   \n",
       "4             Tata       Punch     Adventure AMT  1199  Automatic       366.0   \n",
       "..             ...         ...               ...   ...        ...         ...   \n",
       "849  Mercedes-Benz    AMG C 63             Coupe  3982  Automatic       150.0   \n",
       "850  Mercedes-Benz    AMG C 43      4MATIC Coupe  2996  Automatic       150.0   \n",
       "851  Mercedes-Benz    AMG E 53       4MATIC Plus  2999     Manual       150.0   \n",
       "852  Mercedes-Benz    AMG E 63       4MATIC Plus  3982  Automatic       150.0   \n",
       "853  Mercedes-Benz  AMG GLC 43      4MATIC Coupe  2996  Automatic       150.0   \n",
       "\n",
       "     price  \n",
       "0      582  \n",
       "1      614  \n",
       "2      664  \n",
       "3      699  \n",
       "4      724  \n",
       "..     ...  \n",
       "849  14100  \n",
       "850   8109  \n",
       "851  10600  \n",
       "852  17300  \n",
       "853   8540  \n",
       "\n",
       "[854 rows x 7 columns]"
      ]
     },
     "execution_count": 13,
     "metadata": {},
     "output_type": "execute_result"
    }
   ],
   "source": [
    "final_df"
   ]
  },
  {
   "cell_type": "code",
   "execution_count": 55,
   "id": "a58aaafe",
   "metadata": {},
   "outputs": [],
   "source": [
    "final_df[\"price\"] = final_df[\"price\"]*1000"
   ]
  },
  {
   "cell_type": "code",
   "execution_count": 56,
   "id": "e427cd9c",
   "metadata": {},
   "outputs": [
    {
     "data": {
      "text/html": [
       "<div>\n",
       "<style scoped>\n",
       "    .dataframe tbody tr th:only-of-type {\n",
       "        vertical-align: middle;\n",
       "    }\n",
       "\n",
       "    .dataframe tbody tr th {\n",
       "        vertical-align: top;\n",
       "    }\n",
       "\n",
       "    .dataframe thead th {\n",
       "        text-align: right;\n",
       "    }\n",
       "</style>\n",
       "<table border=\"1\" class=\"dataframe\">\n",
       "  <thead>\n",
       "    <tr style=\"text-align: right;\">\n",
       "      <th></th>\n",
       "      <th>brand</th>\n",
       "      <th>model</th>\n",
       "      <th>variant_type</th>\n",
       "      <th>CC</th>\n",
       "      <th>gear_type</th>\n",
       "      <th>Boot_Space</th>\n",
       "      <th>price</th>\n",
       "      <th>gear_type_num</th>\n",
       "    </tr>\n",
       "  </thead>\n",
       "  <tbody>\n",
       "    <tr>\n",
       "      <th>0</th>\n",
       "      <td>Tata</td>\n",
       "      <td>Punch</td>\n",
       "      <td>Pure</td>\n",
       "      <td>1199</td>\n",
       "      <td>Manual</td>\n",
       "      <td>366.0</td>\n",
       "      <td>582000000</td>\n",
       "      <td>0</td>\n",
       "    </tr>\n",
       "    <tr>\n",
       "      <th>1</th>\n",
       "      <td>Tata</td>\n",
       "      <td>Punch</td>\n",
       "      <td>Pure Rhythm</td>\n",
       "      <td>1199</td>\n",
       "      <td>Manual</td>\n",
       "      <td>366.0</td>\n",
       "      <td>614000000</td>\n",
       "      <td>0</td>\n",
       "    </tr>\n",
       "    <tr>\n",
       "      <th>2</th>\n",
       "      <td>Tata</td>\n",
       "      <td>Punch</td>\n",
       "      <td>Adventure</td>\n",
       "      <td>1199</td>\n",
       "      <td>Manual</td>\n",
       "      <td>366.0</td>\n",
       "      <td>664000000</td>\n",
       "      <td>0</td>\n",
       "    </tr>\n",
       "    <tr>\n",
       "      <th>3</th>\n",
       "      <td>Tata</td>\n",
       "      <td>Punch</td>\n",
       "      <td>Adventure Rhythm</td>\n",
       "      <td>1199</td>\n",
       "      <td>Manual</td>\n",
       "      <td>366.0</td>\n",
       "      <td>699000000</td>\n",
       "      <td>0</td>\n",
       "    </tr>\n",
       "    <tr>\n",
       "      <th>4</th>\n",
       "      <td>Tata</td>\n",
       "      <td>Punch</td>\n",
       "      <td>Adventure AMT</td>\n",
       "      <td>1199</td>\n",
       "      <td>Automatic</td>\n",
       "      <td>366.0</td>\n",
       "      <td>724000000</td>\n",
       "      <td>1</td>\n",
       "    </tr>\n",
       "    <tr>\n",
       "      <th>...</th>\n",
       "      <td>...</td>\n",
       "      <td>...</td>\n",
       "      <td>...</td>\n",
       "      <td>...</td>\n",
       "      <td>...</td>\n",
       "      <td>...</td>\n",
       "      <td>...</td>\n",
       "      <td>...</td>\n",
       "    </tr>\n",
       "    <tr>\n",
       "      <th>849</th>\n",
       "      <td>Mercedes-Benz</td>\n",
       "      <td>AMG C 63</td>\n",
       "      <td>Coupe</td>\n",
       "      <td>3982</td>\n",
       "      <td>Automatic</td>\n",
       "      <td>150.0</td>\n",
       "      <td>14100000000</td>\n",
       "      <td>1</td>\n",
       "    </tr>\n",
       "    <tr>\n",
       "      <th>850</th>\n",
       "      <td>Mercedes-Benz</td>\n",
       "      <td>AMG C 43</td>\n",
       "      <td>4MATIC Coupe</td>\n",
       "      <td>2996</td>\n",
       "      <td>Automatic</td>\n",
       "      <td>150.0</td>\n",
       "      <td>8109000000</td>\n",
       "      <td>1</td>\n",
       "    </tr>\n",
       "    <tr>\n",
       "      <th>851</th>\n",
       "      <td>Mercedes-Benz</td>\n",
       "      <td>AMG E 53</td>\n",
       "      <td>4MATIC Plus</td>\n",
       "      <td>2999</td>\n",
       "      <td>Manual</td>\n",
       "      <td>150.0</td>\n",
       "      <td>10600000000</td>\n",
       "      <td>0</td>\n",
       "    </tr>\n",
       "    <tr>\n",
       "      <th>852</th>\n",
       "      <td>Mercedes-Benz</td>\n",
       "      <td>AMG E 63</td>\n",
       "      <td>4MATIC Plus</td>\n",
       "      <td>3982</td>\n",
       "      <td>Automatic</td>\n",
       "      <td>150.0</td>\n",
       "      <td>17300000000</td>\n",
       "      <td>1</td>\n",
       "    </tr>\n",
       "    <tr>\n",
       "      <th>853</th>\n",
       "      <td>Mercedes-Benz</td>\n",
       "      <td>AMG GLC 43</td>\n",
       "      <td>4MATIC Coupe</td>\n",
       "      <td>2996</td>\n",
       "      <td>Automatic</td>\n",
       "      <td>150.0</td>\n",
       "      <td>8540000000</td>\n",
       "      <td>1</td>\n",
       "    </tr>\n",
       "  </tbody>\n",
       "</table>\n",
       "<p>854 rows × 8 columns</p>\n",
       "</div>"
      ],
      "text/plain": [
       "             brand       model      variant_type    CC  gear_type  Boot_Space  \\\n",
       "0             Tata       Punch              Pure  1199     Manual       366.0   \n",
       "1             Tata       Punch       Pure Rhythm  1199     Manual       366.0   \n",
       "2             Tata       Punch         Adventure  1199     Manual       366.0   \n",
       "3             Tata       Punch  Adventure Rhythm  1199     Manual       366.0   \n",
       "4             Tata       Punch     Adventure AMT  1199  Automatic       366.0   \n",
       "..             ...         ...               ...   ...        ...         ...   \n",
       "849  Mercedes-Benz    AMG C 63             Coupe  3982  Automatic       150.0   \n",
       "850  Mercedes-Benz    AMG C 43      4MATIC Coupe  2996  Automatic       150.0   \n",
       "851  Mercedes-Benz    AMG E 53       4MATIC Plus  2999     Manual       150.0   \n",
       "852  Mercedes-Benz    AMG E 63       4MATIC Plus  3982  Automatic       150.0   \n",
       "853  Mercedes-Benz  AMG GLC 43      4MATIC Coupe  2996  Automatic       150.0   \n",
       "\n",
       "           price  gear_type_num  \n",
       "0      582000000              0  \n",
       "1      614000000              0  \n",
       "2      664000000              0  \n",
       "3      699000000              0  \n",
       "4      724000000              1  \n",
       "..           ...            ...  \n",
       "849  14100000000              1  \n",
       "850   8109000000              1  \n",
       "851  10600000000              0  \n",
       "852  17300000000              1  \n",
       "853   8540000000              1  \n",
       "\n",
       "[854 rows x 8 columns]"
      ]
     },
     "execution_count": 56,
     "metadata": {},
     "output_type": "execute_result"
    }
   ],
   "source": [
    "final_df"
   ]
  },
  {
   "cell_type": "code",
   "execution_count": 16,
   "id": "33ca04b5",
   "metadata": {},
   "outputs": [
    {
     "data": {
      "text/plain": [
       "(854, 7)"
      ]
     },
     "execution_count": 16,
     "metadata": {},
     "output_type": "execute_result"
    }
   ],
   "source": [
    "final_df.shape"
   ]
  },
  {
   "cell_type": "markdown",
   "id": "597764e1",
   "metadata": {},
   "source": [
    "##### observation\n",
    "* from this we can observed that there are 854 rows and 7 columns"
   ]
  },
  {
   "cell_type": "code",
   "execution_count": 17,
   "id": "88f1d12d",
   "metadata": {},
   "outputs": [
    {
     "name": "stdout",
     "output_type": "stream",
     "text": [
      "<class 'pandas.core.frame.DataFrame'>\n",
      "RangeIndex: 854 entries, 0 to 853\n",
      "Data columns (total 7 columns):\n",
      " #   Column        Non-Null Count  Dtype  \n",
      "---  ------        --------------  -----  \n",
      " 0   brand         854 non-null    object \n",
      " 1   model         854 non-null    object \n",
      " 2   variant_type  854 non-null    object \n",
      " 3   CC            854 non-null    int64  \n",
      " 4   gear_type     854 non-null    object \n",
      " 5   Boot_Space    854 non-null    float64\n",
      " 6   price         854 non-null    int64  \n",
      "dtypes: float64(1), int64(2), object(4)\n",
      "memory usage: 46.8+ KB\n"
     ]
    }
   ],
   "source": [
    "final_df.info()"
   ]
  },
  {
   "cell_type": "markdown",
   "id": "7c70f76d",
   "metadata": {},
   "source": [
    "# observation\n",
    "* from the above Dataframe we can observ that there are two integer column,one float column and four object type column\n",
    "* There are no null alues in the any columns"
   ]
  },
  {
   "cell_type": "code",
   "execution_count": 18,
   "id": "b38a7607",
   "metadata": {},
   "outputs": [
    {
     "data": {
      "text/html": [
       "<div>\n",
       "<style scoped>\n",
       "    .dataframe tbody tr th:only-of-type {\n",
       "        vertical-align: middle;\n",
       "    }\n",
       "\n",
       "    .dataframe tbody tr th {\n",
       "        vertical-align: top;\n",
       "    }\n",
       "\n",
       "    .dataframe thead th {\n",
       "        text-align: right;\n",
       "    }\n",
       "</style>\n",
       "<table border=\"1\" class=\"dataframe\">\n",
       "  <thead>\n",
       "    <tr style=\"text-align: right;\">\n",
       "      <th></th>\n",
       "      <th>CC</th>\n",
       "      <th>Boot_Space</th>\n",
       "      <th>price</th>\n",
       "    </tr>\n",
       "  </thead>\n",
       "  <tbody>\n",
       "    <tr>\n",
       "      <th>count</th>\n",
       "      <td>854.000000</td>\n",
       "      <td>854.000000</td>\n",
       "      <td>8.540000e+02</td>\n",
       "    </tr>\n",
       "    <tr>\n",
       "      <th>mean</th>\n",
       "      <td>1928.621780</td>\n",
       "      <td>301.456674</td>\n",
       "      <td>5.257300e+06</td>\n",
       "    </tr>\n",
       "    <tr>\n",
       "      <th>std</th>\n",
       "      <td>978.802635</td>\n",
       "      <td>142.306663</td>\n",
       "      <td>8.991315e+06</td>\n",
       "    </tr>\n",
       "    <tr>\n",
       "      <th>min</th>\n",
       "      <td>796.000000</td>\n",
       "      <td>74.000000</td>\n",
       "      <td>3.390000e+05</td>\n",
       "    </tr>\n",
       "    <tr>\n",
       "      <th>25%</th>\n",
       "      <td>1199.000000</td>\n",
       "      <td>150.000000</td>\n",
       "      <td>9.490000e+05</td>\n",
       "    </tr>\n",
       "    <tr>\n",
       "      <th>50%</th>\n",
       "      <td>1497.000000</td>\n",
       "      <td>318.000000</td>\n",
       "      <td>1.422000e+06</td>\n",
       "    </tr>\n",
       "    <tr>\n",
       "      <th>75%</th>\n",
       "      <td>2194.500000</td>\n",
       "      <td>385.000000</td>\n",
       "      <td>4.896500e+06</td>\n",
       "    </tr>\n",
       "    <tr>\n",
       "      <th>max</th>\n",
       "      <td>6498.000000</td>\n",
       "      <td>825.000000</td>\n",
       "      <td>9.000000e+07</td>\n",
       "    </tr>\n",
       "  </tbody>\n",
       "</table>\n",
       "</div>"
      ],
      "text/plain": [
       "                CC  Boot_Space         price\n",
       "count   854.000000  854.000000  8.540000e+02\n",
       "mean   1928.621780  301.456674  5.257300e+06\n",
       "std     978.802635  142.306663  8.991315e+06\n",
       "min     796.000000   74.000000  3.390000e+05\n",
       "25%    1199.000000  150.000000  9.490000e+05\n",
       "50%    1497.000000  318.000000  1.422000e+06\n",
       "75%    2194.500000  385.000000  4.896500e+06\n",
       "max    6498.000000  825.000000  9.000000e+07"
      ]
     },
     "execution_count": 18,
     "metadata": {},
     "output_type": "execute_result"
    }
   ],
   "source": [
    "final_df.describe()"
   ]
  },
  {
   "cell_type": "markdown",
   "id": "aebec351",
   "metadata": {},
   "source": [
    "# univariate analysis"
   ]
  },
  {
   "cell_type": "code",
   "execution_count": 19,
   "id": "dfaa8064",
   "metadata": {
    "scrolled": true
   },
   "outputs": [
    {
     "data": {
      "image/png": "[encoded data removed]",
      "text/plain": [
       "<Figure size 432x288 with 1 Axes>"
      ]
     },
     "metadata": {
      "needs_background": "light"
     },
     "output_type": "display_data"
    }
   ],
   "source": [
    "final_df.brand.value_counts().plot.bar()\n",
    "plt.show()"
   ]
  },
  {
   "cell_type": "markdown",
   "id": "2b43f5de",
   "metadata": {},
   "source": [
    "#### observation\n",
    "* From the above plot we can conclude that Tata  brand has more car models compare to the all brands and  Maruti_Suzuki is in second place then followed by Mahindra and Mclaren have less varients compare to the all brands"
   ]
  },
  {
   "cell_type": "code",
   "execution_count": 20,
   "id": "e7101c80",
   "metadata": {},
   "outputs": [
    {
     "data": {
      "image/png": "[encoded data removed]",
      "text/plain": [
       "<Figure size 720x360 with 1 Axes>"
      ]
     },
     "metadata": {},
     "output_type": "display_data"
    }
   ],
   "source": [
    "plt.figure(figsize=(10,5))\n",
    "final_df.brand.value_counts().nlargest(10).plot.pie(autopct=\"%.3f%%\")\n",
    "plt.show()"
   ]
  },
  {
   "cell_type": "markdown",
   "id": "b9d6a508",
   "metadata": {},
   "source": [
    "##### observation\n",
    "* From the above observation we can conclude that in the top 10 brands Tata occupied 25.753% and then follwed by maruti_suzuki and in 10 Th place Nissan"
   ]
  },
  {
   "cell_type": "code",
   "execution_count": 21,
   "id": "ef3a0e0b",
   "metadata": {},
   "outputs": [
    {
     "data": {
      "image/png": "[encoded data removed]",
      "text/plain": [
       "<Figure size 720x360 with 1 Axes>"
      ]
     },
     "metadata": {},
     "output_type": "display_data"
    }
   ],
   "source": [
    "plt.figure(figsize = (10,5))\n",
    "final_df.model.value_counts()[:10].plot.pie(autopct = \"%.3f%%\")\n",
    "plt.show()"
   ]
  },
  {
   "cell_type": "markdown",
   "id": "bae74f59",
   "metadata": {},
   "source": [
    "##### observation\n",
    "* From the above observation we can conclude that in the top 10 brands Nexon occupied 24.521% and then follwed by altroz with 11.877% and in 10 Th place innova crysta with 6.897%"
   ]
  },
  {
   "cell_type": "code",
   "execution_count": null,
   "id": "329683fa",
   "metadata": {},
   "outputs": [],
   "source": []
  },
  {
   "cell_type": "code",
   "execution_count": 22,
   "id": "93a50c1c",
   "metadata": {},
   "outputs": [
    {
     "data": {
      "image/png": "[encoded data removed]",
      "text/plain": [
       "<Figure size 720x360 with 1 Axes>"
      ]
     },
     "metadata": {
      "needs_background": "light"
     },
     "output_type": "display_data"
    }
   ],
   "source": [
    "plt.figure(figsize = (10,5))\n",
    "final_df.variant_type.value_counts()[:10].plot.bar()\n",
    "plt.show()"
   ]
  },
  {
   "cell_type": "code",
   "execution_count": 57,
   "id": "cf958840",
   "metadata": {},
   "outputs": [
    {
     "data": {
      "text/plain": [
       "<seaborn.axisgrid.FacetGrid at 0x1ff389f0610>"
      ]
     },
     "execution_count": 57,
     "metadata": {},
     "output_type": "execute_result"
    },
    {
     "data": {
      "image/png": "[encoded data removed]",
      "text/plain": [
       "<Figure size 360x360 with 1 Axes>"
      ]
     },
     "metadata": {
      "needs_background": "light"
     },
     "output_type": "display_data"
    }
   ],
   "source": [
    "sns.displot(final_df.CC,kde=True)"
   ]
  },
  {
   "cell_type": "markdown",
   "id": "af8b39e3",
   "metadata": {},
   "source": [
    "##### observation \n",
    "* From this we can observe that maximum cars are in between 1000 to 200 cc"
   ]
  },
  {
   "cell_type": "code",
   "execution_count": 24,
   "id": "8050fe93",
   "metadata": {},
   "outputs": [
    {
     "data": {
      "text/plain": [
       "<AxesSubplot:>"
      ]
     },
     "execution_count": 24,
     "metadata": {},
     "output_type": "execute_result"
    },
    {
     "data": {
      "image/png": "[encoded data removed]",
      "text/plain": [
       "<Figure size 432x288 with 1 Axes>"
      ]
     },
     "metadata": {
      "needs_background": "light"
     },
     "output_type": "display_data"
    }
   ],
   "source": [
    "final_df.gear_type.value_counts().plot.bar()"
   ]
  },
  {
   "cell_type": "markdown",
   "id": "33a5623f",
   "metadata": {},
   "source": [
    "##### Observation\n",
    "* From the above plot we can conclude that Automatics gear varients has more models then Manual and others\n",
    "* There are more than 400 automatic cars, 400 manual cars and there are less then 100 Other cars"
   ]
  },
  {
   "cell_type": "code",
   "execution_count": 25,
   "id": "7c245b5f",
   "metadata": {},
   "outputs": [
    {
     "data": {
      "text/plain": [
       "<AxesSubplot:>"
      ]
     },
     "execution_count": 25,
     "metadata": {},
     "output_type": "execute_result"
    },
    {
     "data": {
      "image/png": "[encoded data removed]",
      "text/plain": [
       "<Figure size 432x288 with 1 Axes>"
      ]
     },
     "metadata": {
      "needs_background": "light"
     },
     "output_type": "display_data"
    }
   ],
   "source": [
    "final_df.price.hist(bins=10)"
   ]
  },
  {
   "cell_type": "markdown",
   "id": "ae835e9c",
   "metadata": {},
   "source": [
    "##### observation\n",
    "* we have divided price into ten category and from that we can observe that max number of cars are between 0 to 2 crores"
   ]
  },
  {
   "cell_type": "markdown",
   "id": "2b8b1f22",
   "metadata": {},
   "source": [
    "# bivariate anlysis"
   ]
  },
  {
   "cell_type": "code",
   "execution_count": 26,
   "id": "24ce06bf",
   "metadata": {},
   "outputs": [
    {
     "data": {
      "text/plain": [
       "Index(['brand', 'model', 'variant_type', 'CC', 'gear_type', 'Boot_Space',\n",
       "       'price'],\n",
       "      dtype='object')"
      ]
     },
     "execution_count": 26,
     "metadata": {},
     "output_type": "execute_result"
    }
   ],
   "source": [
    "final_df.columns"
   ]
  },
  {
   "cell_type": "code",
   "execution_count": 27,
   "id": "69e8e231",
   "metadata": {},
   "outputs": [
    {
     "data": {
      "text/plain": [
       "0.8395023909798437"
      ]
     },
     "execution_count": 27,
     "metadata": {},
     "output_type": "execute_result"
    }
   ],
   "source": [
    "final_df.CC.corr(final_df.price)"
   ]
  },
  {
   "cell_type": "markdown",
   "id": "8131a52f",
   "metadata": {},
   "source": [
    "###### observaion\n",
    "* correlation between price and cc is positive correlation, if the cc increases price also increases"
   ]
  },
  {
   "cell_type": "code",
   "execution_count": 28,
   "id": "a0003a5a",
   "metadata": {},
   "outputs": [
    {
     "data": {
      "text/plain": [
       "<seaborn.axisgrid.FacetGrid at 0x1ff357e9610>"
      ]
     },
     "execution_count": 28,
     "metadata": {},
     "output_type": "execute_result"
    },
    {
     "data": {
      "image/png": "[encoded data removed]",
      "text/plain": [
       "<Figure size 360x360 with 1 Axes>"
      ]
     },
     "metadata": {
      "needs_background": "light"
     },
     "output_type": "display_data"
    }
   ],
   "source": [
    "sns.lmplot(x='CC',y='price',data=final_df)"
   ]
  },
  {
   "cell_type": "code",
   "execution_count": null,
   "id": "b089eccc",
   "metadata": {},
   "outputs": [],
   "source": []
  },
  {
   "cell_type": "code",
   "execution_count": 29,
   "id": "a17ea60c",
   "metadata": {},
   "outputs": [
    {
     "data": {
      "image/png": "[encoded data removed]",
      "text/plain": [
       "<Figure size 360x360 with 1 Axes>"
      ]
     },
     "metadata": {
      "needs_background": "light"
     },
     "output_type": "display_data"
    }
   ],
   "source": [
    "sns.lmplot(x=\"CC\",y=\"Boot_Space\",data=final_df)\n",
    "plt.show()"
   ]
  },
  {
   "cell_type": "markdown",
   "id": "4a941e94",
   "metadata": {},
   "source": [
    "##### observation\n",
    "* From the above plot we can conclude that if the cc increases the boot space will decreases they both are negative correlation"
   ]
  },
  {
   "cell_type": "code",
   "execution_count": 30,
   "id": "9777392e",
   "metadata": {},
   "outputs": [],
   "source": [
    "num = final_df.select_dtypes(include = \"number\")"
   ]
  },
  {
   "cell_type": "code",
   "execution_count": 31,
   "id": "5a5e50d9",
   "metadata": {},
   "outputs": [
    {
     "data": {
      "text/plain": [
       "<AxesSubplot:>"
      ]
     },
     "execution_count": 31,
     "metadata": {},
     "output_type": "execute_result"
    },
    {
     "data": {
      "image/png": "[encoded data removed]",
      "text/plain": [
       "<Figure size 432x288 with 2 Axes>"
      ]
     },
     "metadata": {
      "needs_background": "light"
     },
     "output_type": "display_data"
    }
   ],
   "source": [
    "sns.heatmap(num.corr(),annot = True)"
   ]
  },
  {
   "cell_type": "markdown",
   "id": "3cb52546",
   "metadata": {},
   "source": [
    "##### observation \n",
    "* From the above heatmap we can observe that if cc increases Boot space decreases there are negative correlation\n",
    "* From the above heatmap we can conclude that if the price increases the cc will also increases there are poistive correlation"
   ]
  },
  {
   "cell_type": "code",
   "execution_count": 32,
   "id": "49f366bf",
   "metadata": {},
   "outputs": [
    {
     "data": {
      "image/png": "[encoded data removed]",
      "text/plain": [
       "<Figure size 432x288 with 1 Axes>"
      ]
     },
     "metadata": {
      "needs_background": "light"
     },
     "output_type": "display_data"
    }
   ],
   "source": [
    "sns.boxplot(x=\"gear_type\",y=\"CC\",data=final_df)\n",
    "plt.show()"
   ]
  },
  {
   "cell_type": "markdown",
   "id": "520d63a1",
   "metadata": {},
   "source": [
    "##### obseravtion \n",
    "* cars above 2000 cc have less manual gear cars \n",
    "* cars above 5000 cc have less auto gear cars"
   ]
  },
  {
   "cell_type": "code",
   "execution_count": 33,
   "id": "ffdce56a",
   "metadata": {},
   "outputs": [
    {
     "data": {
      "image/png": "[encoded data removed]",
      "text/plain": [
       "<Figure size 432x288 with 1 Axes>"
      ]
     },
     "metadata": {
      "needs_background": "light"
     },
     "output_type": "display_data"
    }
   ],
   "source": [
    "sns.barplot(x=\"gear_type\",y= \"Boot_Space\",data=final_df,ci=False)\n",
    "plt.show()"
   ]
  },
  {
   "cell_type": "markdown",
   "id": "ff91a806",
   "metadata": {},
   "source": [
    "###### observation\n",
    "* From the above plot we can conculde that manual gear cars are have boot space between 300 to 250\n",
    "* From the above plot we can conculde that automatic gear car has more boot space than manual and other gear cars automatic gear cars has boot space above 300\n",
    "* Other gear car has less boot space"
   ]
  },
  {
   "cell_type": "code",
   "execution_count": 34,
   "id": "f98cde40",
   "metadata": {},
   "outputs": [
    {
     "data": {
      "text/plain": [
       "array(['Manual', 'Automatic', 'Other'], dtype=object)"
      ]
     },
     "execution_count": 34,
     "metadata": {},
     "output_type": "execute_result"
    }
   ],
   "source": [
    "final_df.gear_type.unique()"
   ]
  },
  {
   "cell_type": "code",
   "execution_count": 35,
   "id": "574c5d96",
   "metadata": {},
   "outputs": [],
   "source": [
    "new = {\"Manual\":0,\"Automatic\":1,\"Other\":2}"
   ]
  },
  {
   "cell_type": "code",
   "execution_count": 36,
   "id": "3ec87027",
   "metadata": {},
   "outputs": [],
   "source": [
    "final_df[\"gear_type_num\"] = final_df[\"gear_type\"].map(new)"
   ]
  },
  {
   "cell_type": "code",
   "execution_count": 37,
   "id": "81e237f7",
   "metadata": {},
   "outputs": [
    {
     "data": {
      "text/plain": [
       "Int64Index([813, 814, 815, 816, 817, 818, 819, 820, 821, 822, 823, 824, 825,\n",
       "            826, 827, 828, 829, 830, 831, 832, 833, 834, 835, 836, 837, 838,\n",
       "            839, 840, 841, 842, 843, 844, 845, 846, 847, 848, 849, 850, 852,\n",
       "            853],\n",
       "           dtype='int64')"
      ]
     },
     "execution_count": 37,
     "metadata": {},
     "output_type": "execute_result"
    }
   ],
   "source": [
    "final_df[final_df.gear_type ==\"Automatic\"].index[-40:]"
   ]
  },
  {
   "cell_type": "code",
   "execution_count": 38,
   "id": "670a2913",
   "metadata": {},
   "outputs": [
    {
     "data": {
      "image/png": "[encoded data removed]",
      "text/plain": [
       "<Figure size 360x360 with 1 Axes>"
      ]
     },
     "metadata": {
      "needs_background": "light"
     },
     "output_type": "display_data"
    }
   ],
   "source": [
    "sns.lmplot(x =\"gear_type_num\",y= \"price\",data = final_df)\n",
    "plt.xlim([0,3])\n",
    "plt.show()"
   ]
  },
  {
   "cell_type": "markdown",
   "id": "e8699531",
   "metadata": {},
   "source": [
    "##### observation\n",
    "* From the observaion we can say that automatic cars are costly than manual cars and othere cars"
   ]
  },
  {
   "cell_type": "code",
   "execution_count": 39,
   "id": "08eaadb7",
   "metadata": {},
   "outputs": [
    {
     "data": {
      "text/html": [
       "<div>\n",
       "<style scoped>\n",
       "    .dataframe tbody tr th:only-of-type {\n",
       "        vertical-align: middle;\n",
       "    }\n",
       "\n",
       "    .dataframe tbody tr th {\n",
       "        vertical-align: top;\n",
       "    }\n",
       "\n",
       "    .dataframe thead th {\n",
       "        text-align: right;\n",
       "    }\n",
       "</style>\n",
       "<table border=\"1\" class=\"dataframe\">\n",
       "  <thead>\n",
       "    <tr style=\"text-align: right;\">\n",
       "      <th></th>\n",
       "      <th>brand</th>\n",
       "      <th>model</th>\n",
       "      <th>variant_type</th>\n",
       "      <th>CC</th>\n",
       "      <th>gear_type</th>\n",
       "      <th>Boot_Space</th>\n",
       "      <th>price</th>\n",
       "      <th>gear_type_num</th>\n",
       "    </tr>\n",
       "  </thead>\n",
       "  <tbody>\n",
       "    <tr>\n",
       "      <th>0</th>\n",
       "      <td>Tata</td>\n",
       "      <td>Punch</td>\n",
       "      <td>Pure</td>\n",
       "      <td>1199</td>\n",
       "      <td>Manual</td>\n",
       "      <td>366.0</td>\n",
       "      <td>582000</td>\n",
       "      <td>0</td>\n",
       "    </tr>\n",
       "    <tr>\n",
       "      <th>1</th>\n",
       "      <td>Tata</td>\n",
       "      <td>Punch</td>\n",
       "      <td>Pure Rhythm</td>\n",
       "      <td>1199</td>\n",
       "      <td>Manual</td>\n",
       "      <td>366.0</td>\n",
       "      <td>614000</td>\n",
       "      <td>0</td>\n",
       "    </tr>\n",
       "    <tr>\n",
       "      <th>2</th>\n",
       "      <td>Tata</td>\n",
       "      <td>Punch</td>\n",
       "      <td>Adventure</td>\n",
       "      <td>1199</td>\n",
       "      <td>Manual</td>\n",
       "      <td>366.0</td>\n",
       "      <td>664000</td>\n",
       "      <td>0</td>\n",
       "    </tr>\n",
       "    <tr>\n",
       "      <th>3</th>\n",
       "      <td>Tata</td>\n",
       "      <td>Punch</td>\n",
       "      <td>Adventure Rhythm</td>\n",
       "      <td>1199</td>\n",
       "      <td>Manual</td>\n",
       "      <td>366.0</td>\n",
       "      <td>699000</td>\n",
       "      <td>0</td>\n",
       "    </tr>\n",
       "    <tr>\n",
       "      <th>4</th>\n",
       "      <td>Tata</td>\n",
       "      <td>Punch</td>\n",
       "      <td>Adventure AMT</td>\n",
       "      <td>1199</td>\n",
       "      <td>Automatic</td>\n",
       "      <td>366.0</td>\n",
       "      <td>724000</td>\n",
       "      <td>1</td>\n",
       "    </tr>\n",
       "  </tbody>\n",
       "</table>\n",
       "</div>"
      ],
      "text/plain": [
       "  brand  model      variant_type    CC  gear_type  Boot_Space   price  \\\n",
       "0  Tata  Punch              Pure  1199     Manual       366.0  582000   \n",
       "1  Tata  Punch       Pure Rhythm  1199     Manual       366.0  614000   \n",
       "2  Tata  Punch         Adventure  1199     Manual       366.0  664000   \n",
       "3  Tata  Punch  Adventure Rhythm  1199     Manual       366.0  699000   \n",
       "4  Tata  Punch     Adventure AMT  1199  Automatic       366.0  724000   \n",
       "\n",
       "   gear_type_num  \n",
       "0              0  \n",
       "1              0  \n",
       "2              0  \n",
       "3              0  \n",
       "4              1  "
      ]
     },
     "execution_count": 39,
     "metadata": {},
     "output_type": "execute_result"
    }
   ],
   "source": [
    "final_df.head()"
   ]
  },
  {
   "cell_type": "code",
   "execution_count": 40,
   "id": "8f14e473",
   "metadata": {},
   "outputs": [
    {
     "data": {
      "text/html": [
       "<div>\n",
       "<style scoped>\n",
       "    .dataframe tbody tr th:only-of-type {\n",
       "        vertical-align: middle;\n",
       "    }\n",
       "\n",
       "    .dataframe tbody tr th {\n",
       "        vertical-align: top;\n",
       "    }\n",
       "\n",
       "    .dataframe thead th {\n",
       "        text-align: right;\n",
       "    }\n",
       "</style>\n",
       "<table border=\"1\" class=\"dataframe\">\n",
       "  <thead>\n",
       "    <tr style=\"text-align: right;\">\n",
       "      <th>gear_type</th>\n",
       "      <th>Automatic</th>\n",
       "      <th>Manual</th>\n",
       "      <th>Other</th>\n",
       "    </tr>\n",
       "    <tr>\n",
       "      <th>brand</th>\n",
       "      <th></th>\n",
       "      <th></th>\n",
       "      <th></th>\n",
       "    </tr>\n",
       "  </thead>\n",
       "  <tbody>\n",
       "    <tr>\n",
       "      <th>Audi</th>\n",
       "      <td>21</td>\n",
       "      <td>1</td>\n",
       "      <td>0</td>\n",
       "    </tr>\n",
       "    <tr>\n",
       "      <th>BMW</th>\n",
       "      <td>46</td>\n",
       "      <td>0</td>\n",
       "      <td>0</td>\n",
       "    </tr>\n",
       "    <tr>\n",
       "      <th>Bentley</th>\n",
       "      <td>7</td>\n",
       "      <td>0</td>\n",
       "      <td>1</td>\n",
       "    </tr>\n",
       "    <tr>\n",
       "      <th>Datsun</th>\n",
       "      <td>1</td>\n",
       "      <td>5</td>\n",
       "      <td>0</td>\n",
       "    </tr>\n",
       "    <tr>\n",
       "      <th>Ferrari</th>\n",
       "      <td>5</td>\n",
       "      <td>0</td>\n",
       "      <td>0</td>\n",
       "    </tr>\n",
       "    <tr>\n",
       "      <th>Honda</th>\n",
       "      <td>10</td>\n",
       "      <td>19</td>\n",
       "      <td>0</td>\n",
       "    </tr>\n",
       "    <tr>\n",
       "      <th>ISUZU</th>\n",
       "      <td>4</td>\n",
       "      <td>3</td>\n",
       "      <td>0</td>\n",
       "    </tr>\n",
       "    <tr>\n",
       "      <th>Jaguar</th>\n",
       "      <td>11</td>\n",
       "      <td>0</td>\n",
       "      <td>0</td>\n",
       "    </tr>\n",
       "    <tr>\n",
       "      <th>Jeep</th>\n",
       "      <td>13</td>\n",
       "      <td>8</td>\n",
       "      <td>0</td>\n",
       "    </tr>\n",
       "    <tr>\n",
       "      <th>Kia</th>\n",
       "      <td>22</td>\n",
       "      <td>41</td>\n",
       "      <td>0</td>\n",
       "    </tr>\n",
       "    <tr>\n",
       "      <th>Lamborghini</th>\n",
       "      <td>9</td>\n",
       "      <td>0</td>\n",
       "      <td>0</td>\n",
       "    </tr>\n",
       "    <tr>\n",
       "      <th>Lexus</th>\n",
       "      <td>12</td>\n",
       "      <td>0</td>\n",
       "      <td>0</td>\n",
       "    </tr>\n",
       "    <tr>\n",
       "      <th>Mahindra</th>\n",
       "      <td>23</td>\n",
       "      <td>61</td>\n",
       "      <td>0</td>\n",
       "    </tr>\n",
       "    <tr>\n",
       "      <th>Maruti-Suzuki</th>\n",
       "      <td>35</td>\n",
       "      <td>78</td>\n",
       "      <td>0</td>\n",
       "    </tr>\n",
       "    <tr>\n",
       "      <th>Maserati</th>\n",
       "      <td>28</td>\n",
       "      <td>0</td>\n",
       "      <td>0</td>\n",
       "    </tr>\n",
       "    <tr>\n",
       "      <th>Mclaren</th>\n",
       "      <td>1</td>\n",
       "      <td>0</td>\n",
       "      <td>0</td>\n",
       "    </tr>\n",
       "    <tr>\n",
       "      <th>Mercedes-Benz</th>\n",
       "      <td>45</td>\n",
       "      <td>1</td>\n",
       "      <td>0</td>\n",
       "    </tr>\n",
       "    <tr>\n",
       "      <th>Nissan</th>\n",
       "      <td>10</td>\n",
       "      <td>21</td>\n",
       "      <td>0</td>\n",
       "    </tr>\n",
       "    <tr>\n",
       "      <th>Porsche</th>\n",
       "      <td>29</td>\n",
       "      <td>5</td>\n",
       "      <td>0</td>\n",
       "    </tr>\n",
       "    <tr>\n",
       "      <th>Skoda</th>\n",
       "      <td>18</td>\n",
       "      <td>13</td>\n",
       "      <td>0</td>\n",
       "    </tr>\n",
       "    <tr>\n",
       "      <th>Tata</th>\n",
       "      <td>63</td>\n",
       "      <td>108</td>\n",
       "      <td>0</td>\n",
       "    </tr>\n",
       "    <tr>\n",
       "      <th>Toyota</th>\n",
       "      <td>21</td>\n",
       "      <td>24</td>\n",
       "      <td>0</td>\n",
       "    </tr>\n",
       "    <tr>\n",
       "      <th>Volkswagen</th>\n",
       "      <td>9</td>\n",
       "      <td>8</td>\n",
       "      <td>0</td>\n",
       "    </tr>\n",
       "    <tr>\n",
       "      <th>Volvo</th>\n",
       "      <td>14</td>\n",
       "      <td>0</td>\n",
       "      <td>0</td>\n",
       "    </tr>\n",
       "  </tbody>\n",
       "</table>\n",
       "</div>"
      ],
      "text/plain": [
       "gear_type      Automatic  Manual  Other\n",
       "brand                                  \n",
       "Audi                  21       1      0\n",
       "BMW                   46       0      0\n",
       "Bentley                7       0      1\n",
       "Datsun                 1       5      0\n",
       "Ferrari                5       0      0\n",
       "Honda                 10      19      0\n",
       "ISUZU                  4       3      0\n",
       "Jaguar                11       0      0\n",
       "Jeep                  13       8      0\n",
       "Kia                   22      41      0\n",
       "Lamborghini            9       0      0\n",
       "Lexus                 12       0      0\n",
       "Mahindra              23      61      0\n",
       "Maruti-Suzuki         35      78      0\n",
       "Maserati              28       0      0\n",
       "Mclaren                1       0      0\n",
       "Mercedes-Benz         45       1      0\n",
       "Nissan                10      21      0\n",
       "Porsche               29       5      0\n",
       "Skoda                 18      13      0\n",
       "Tata                  63     108      0\n",
       "Toyota                21      24      0\n",
       "Volkswagen             9       8      0\n",
       "Volvo                 14       0      0"
      ]
     },
     "execution_count": 40,
     "metadata": {},
     "output_type": "execute_result"
    }
   ],
   "source": [
    "cross = pd.crosstab(final_df.brand,final_df.gear_type)\n",
    "cross"
   ]
  },
  {
   "cell_type": "code",
   "execution_count": 41,
   "id": "f8a588b8",
   "metadata": {},
   "outputs": [
    {
     "data": {
      "text/plain": [
       "<AxesSubplot:xlabel='brand'>"
      ]
     },
     "execution_count": 41,
     "metadata": {},
     "output_type": "execute_result"
    },
    {
     "data": {
      "image/png": "[encoded data removed]",
      "text/plain": [
       "<Figure size 432x288 with 1 Axes>"
      ]
     },
     "metadata": {
      "needs_background": "light"
     },
     "output_type": "display_data"
    }
   ],
   "source": [
    "cross.plot.bar()"
   ]
  },
  {
   "cell_type": "markdown",
   "id": "209c4111",
   "metadata": {},
   "source": [
    "##### observation\n",
    "* From above plot we can conclude that Tata brand has more manual cars, automatic cars and bmw,volvo,mclaren,Maserati,lexus,lamborghini and ferrari has no manual cars"
   ]
  },
  {
   "cell_type": "code",
   "execution_count": 42,
   "id": "c10510b1",
   "metadata": {},
   "outputs": [
    {
     "data": {
      "text/plain": [
       "Index(['brand', 'model', 'variant_type', 'CC', 'gear_type', 'Boot_Space',\n",
       "       'price', 'gear_type_num'],\n",
       "      dtype='object')"
      ]
     },
     "execution_count": 42,
     "metadata": {},
     "output_type": "execute_result"
    }
   ],
   "source": [
    "final_df.columns"
   ]
  },
  {
   "cell_type": "code",
   "execution_count": 43,
   "id": "7e3bba3d",
   "metadata": {},
   "outputs": [
    {
     "data": {
      "text/plain": [
       "<seaborn.axisgrid.PairGrid at 0x1ff370af070>"
      ]
     },
     "execution_count": 43,
     "metadata": {},
     "output_type": "execute_result"
    },
    {
     "data": {
      "image/png": "[encoded data removed]",
      "text/plain": [
       "<Figure size 540x540 with 12 Axes>"
      ]
     },
     "metadata": {
      "needs_background": "light"
     },
     "output_type": "display_data"
    }
   ],
   "source": [
    "sns.pairplot(data=final_df,vars=[\"CC\",\"Boot_Space\",\"price\"])"
   ]
  },
  {
   "cell_type": "code",
   "execution_count": 54,
   "id": "78833f5f",
   "metadata": {},
   "outputs": [
    {
     "name": "stdout",
     "output_type": "stream",
     "text": [
      "Enter starting price: 300000\n",
      "enter your ending price: 700000\n"
     ]
    },
    {
     "data": {
      "text/html": [
       "<div>\n",
       "<style scoped>\n",
       "    .dataframe tbody tr th:only-of-type {\n",
       "        vertical-align: middle;\n",
       "    }\n",
       "\n",
       "    .dataframe tbody tr th {\n",
       "        vertical-align: top;\n",
       "    }\n",
       "\n",
       "    .dataframe thead th {\n",
       "        text-align: right;\n",
       "    }\n",
       "</style>\n",
       "<table border=\"1\" class=\"dataframe\">\n",
       "  <thead>\n",
       "    <tr style=\"text-align: right;\">\n",
       "      <th></th>\n",
       "      <th>brand</th>\n",
       "      <th>model</th>\n",
       "      <th>variant_type</th>\n",
       "      <th>CC</th>\n",
       "      <th>gear_type</th>\n",
       "      <th>Boot_Space</th>\n",
       "      <th>price</th>\n",
       "      <th>gear_type_num</th>\n",
       "    </tr>\n",
       "  </thead>\n",
       "  <tbody>\n",
       "    <tr>\n",
       "      <th>0</th>\n",
       "      <td>Tata</td>\n",
       "      <td>Punch</td>\n",
       "      <td>Pure</td>\n",
       "      <td>1199</td>\n",
       "      <td>Manual</td>\n",
       "      <td>366.0</td>\n",
       "      <td>582000</td>\n",
       "      <td>0</td>\n",
       "    </tr>\n",
       "    <tr>\n",
       "      <th>1</th>\n",
       "      <td>Tata</td>\n",
       "      <td>Punch</td>\n",
       "      <td>Pure Rhythm</td>\n",
       "      <td>1199</td>\n",
       "      <td>Manual</td>\n",
       "      <td>366.0</td>\n",
       "      <td>614000</td>\n",
       "      <td>0</td>\n",
       "    </tr>\n",
       "    <tr>\n",
       "      <th>2</th>\n",
       "      <td>Tata</td>\n",
       "      <td>Punch</td>\n",
       "      <td>Adventure</td>\n",
       "      <td>1199</td>\n",
       "      <td>Manual</td>\n",
       "      <td>366.0</td>\n",
       "      <td>664000</td>\n",
       "      <td>0</td>\n",
       "    </tr>\n",
       "    <tr>\n",
       "      <th>3</th>\n",
       "      <td>Tata</td>\n",
       "      <td>Punch</td>\n",
       "      <td>Adventure Rhythm</td>\n",
       "      <td>1199</td>\n",
       "      <td>Manual</td>\n",
       "      <td>366.0</td>\n",
       "      <td>699000</td>\n",
       "      <td>0</td>\n",
       "    </tr>\n",
       "    <tr>\n",
       "      <th>107</th>\n",
       "      <td>Tata</td>\n",
       "      <td>Tiago</td>\n",
       "      <td>XE</td>\n",
       "      <td>1199</td>\n",
       "      <td>Manual</td>\n",
       "      <td>150.0</td>\n",
       "      <td>537000</td>\n",
       "      <td>0</td>\n",
       "    </tr>\n",
       "    <tr>\n",
       "      <th>...</th>\n",
       "      <td>...</td>\n",
       "      <td>...</td>\n",
       "      <td>...</td>\n",
       "      <td>...</td>\n",
       "      <td>...</td>\n",
       "      <td>...</td>\n",
       "      <td>...</td>\n",
       "      <td>...</td>\n",
       "    </tr>\n",
       "    <tr>\n",
       "      <th>803</th>\n",
       "      <td>Maruti-Suzuki</td>\n",
       "      <td>Super Carry</td>\n",
       "      <td>STD</td>\n",
       "      <td>1198</td>\n",
       "      <td>Manual</td>\n",
       "      <td>150.0</td>\n",
       "      <td>478000</td>\n",
       "      <td>0</td>\n",
       "    </tr>\n",
       "    <tr>\n",
       "      <th>804</th>\n",
       "      <td>Maruti-Suzuki</td>\n",
       "      <td>Super Carry</td>\n",
       "      <td>STD CNG</td>\n",
       "      <td>1198</td>\n",
       "      <td>Manual</td>\n",
       "      <td>150.0</td>\n",
       "      <td>583000</td>\n",
       "      <td>0</td>\n",
       "    </tr>\n",
       "    <tr>\n",
       "      <th>805</th>\n",
       "      <td>Maruti-Suzuki</td>\n",
       "      <td>Eeco Cargo</td>\n",
       "      <td>STD</td>\n",
       "      <td>1196</td>\n",
       "      <td>Manual</td>\n",
       "      <td>150.0</td>\n",
       "      <td>468000</td>\n",
       "      <td>0</td>\n",
       "    </tr>\n",
       "    <tr>\n",
       "      <th>806</th>\n",
       "      <td>Maruti-Suzuki</td>\n",
       "      <td>Eeco Cargo</td>\n",
       "      <td>STD CNG</td>\n",
       "      <td>1196</td>\n",
       "      <td>Manual</td>\n",
       "      <td>150.0</td>\n",
       "      <td>563000</td>\n",
       "      <td>0</td>\n",
       "    </tr>\n",
       "    <tr>\n",
       "      <th>807</th>\n",
       "      <td>Maruti-Suzuki</td>\n",
       "      <td>Eeco Cargo</td>\n",
       "      <td>STD CNG AC</td>\n",
       "      <td>1196</td>\n",
       "      <td>Manual</td>\n",
       "      <td>150.0</td>\n",
       "      <td>605000</td>\n",
       "      <td>0</td>\n",
       "    </tr>\n",
       "  </tbody>\n",
       "</table>\n",
       "<p>87 rows × 8 columns</p>\n",
       "</div>"
      ],
      "text/plain": [
       "             brand        model      variant_type    CC gear_type  Boot_Space  \\\n",
       "0             Tata        Punch              Pure  1199    Manual       366.0   \n",
       "1             Tata        Punch       Pure Rhythm  1199    Manual       366.0   \n",
       "2             Tata        Punch         Adventure  1199    Manual       366.0   \n",
       "3             Tata        Punch  Adventure Rhythm  1199    Manual       366.0   \n",
       "107           Tata        Tiago                XE  1199    Manual       150.0   \n",
       "..             ...          ...               ...   ...       ...         ...   \n",
       "803  Maruti-Suzuki  Super Carry               STD  1198    Manual       150.0   \n",
       "804  Maruti-Suzuki  Super Carry           STD CNG  1198    Manual       150.0   \n",
       "805  Maruti-Suzuki   Eeco Cargo               STD  1196    Manual       150.0   \n",
       "806  Maruti-Suzuki   Eeco Cargo           STD CNG  1196    Manual       150.0   \n",
       "807  Maruti-Suzuki   Eeco Cargo        STD CNG AC  1196    Manual       150.0   \n",
       "\n",
       "      price  gear_type_num  \n",
       "0    582000              0  \n",
       "1    614000              0  \n",
       "2    664000              0  \n",
       "3    699000              0  \n",
       "107  537000              0  \n",
       "..      ...            ...  \n",
       "803  478000              0  \n",
       "804  583000              0  \n",
       "805  468000              0  \n",
       "806  563000              0  \n",
       "807  605000              0  \n",
       "\n",
       "[87 rows x 8 columns]"
      ]
     },
     "execution_count": 54,
     "metadata": {},
     "output_type": "execute_result"
    }
   ],
   "source": [
    "starting = int(input(\"Enter starting price: \"))\n",
    "ending = int(input(\"enter your ending price: \"))\n",
    "final_df[final_df.price.between(starting,ending)]"
   ]
  },
  {
   "cell_type": "code",
   "execution_count": null,
   "id": "3f99028a",
   "metadata": {},
   "outputs": [],
   "source": [
    "in_ = int(input(\"check the cars in tha price of: \"))\n",
    "final_df[final_df.price.isin([in_])]"
   ]
  },
  {
   "cell_type": "code",
   "execution_count": null,
   "id": "014260f5",
   "metadata": {},
   "outputs": [],
   "source": [
    "brand = input(\"enter the brand you prefer\")\n",
    "final_df[final_df.brand==brand]"
   ]
  },
  {
   "cell_type": "code",
   "execution_count": null,
   "id": "d26bf0b3",
   "metadata": {},
   "outputs": [],
   "source": [
    "brand = input(\"enter the brand you prefer: \")\n",
    "model = input(\"enter the variant you prefer: \")\n",
    "final_df[(final_df.brand == brand) & (final_df.model == model)]"
   ]
  },
  {
   "cell_type": "code",
   "execution_count": null,
   "id": "a4f42cf0",
   "metadata": {},
   "outputs": [],
   "source": []
  }
 ],
 "metadata": {
  "kernelspec": {
   "display_name": "Python 3 (ipykernel)",
   "language": "python",
   "name": "python3"
  },
  "language_info": {
   "codemirror_mode": {
    "name": "ipython",
    "version": 3
   },
   "file_extension": ".py",
   "mimetype": "text/x-python",
   "name": "python",
   "nbconvert_exporter": "python",
   "pygments_lexer": "ipython3",
   "version": "3.9.12"
  }
 },
 "nbformat": 4,
 "nbformat_minor": 5
}
